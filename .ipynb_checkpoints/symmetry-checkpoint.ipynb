{
 "cells": [
  {
   "cell_type": "code",
   "execution_count": 1,
   "id": "bbb9545e-d6c2-452f-b980-37905a53a116",
   "metadata": {},
   "outputs": [
    {
     "name": "stdout",
     "output_type": "stream",
     "text": [
      "0\n",
      "1\n",
      "[0, 0, 1]\n",
      "[0 0 1]\n"
     ]
    }
   ],
   "source": [
    "import numpy as np\n",
    "a = [1, 0, 0]\n",
    "b = [0, 1, 0]\n",
    "c = [0, 0, 1]\n",
    "\n",
    "scalar = np.dot(a, b)\n",
    "pseudoscalar = np.dot(c, np.cross(a, b))\n",
    "polar = c\n",
    "axial = np.cross(a, b)\n",
    "\n",
    "print(scalar)\n",
    "print(pseudoscalar)\n",
    "print(polar)\n",
    "print(axial)"
   ]
  },
  {
   "cell_type": "code",
   "execution_count": null,
   "id": "0ee8f7f8-4dce-4100-a4e3-90967ce26252",
   "metadata": {},
   "outputs": [],
   "source": [
    "inversion = np.array(\n",
    "               [[-1,  0,  0]\n",
    "               ,[ 0, -1,  0]\n",
    "               ,[ 0,  0, -1]]\n",
    ")\n",
    "\n",
    "mirror_z = np.array(\n",
    "                [[1,  0,  0]\n",
    "               ,[ 0, 1,  0]\n",
    "               ,[ 0,  0, -1]]\n",
    ")\n",
    "\n",
    "mirror_y = np.array(\n",
    "                [[-1,  0,  0]\n",
    "               ,[ 0, 1,  0]\n",
    "               ,[ 0,  0, 1]]\n",
    ")\n",
    "\n",
    "rotation_x_180: np.array(\n",
    "                [[-1,  0,  0]\n",
    "               ,[ 0, 1,  0]\n",
    "               ,[ 0,  0, 1]]\n",
    ")\n",
    "                \n"
   ]
  },
  {
   "cell_type": "code",
   "execution_count": 2,
   "id": "9e67b98a-f155-48e7-8928-df12b87ee430",
   "metadata": {},
   "outputs": [
    {
     "ename": "SyntaxError",
     "evalue": "invalid syntax (4089028218.py, line 1)",
     "output_type": "error",
     "traceback": [
      "\u001b[1;36m  Cell \u001b[1;32mIn[2], line 1\u001b[1;36m\u001b[0m\n\u001b[1;33m    1D object| identity\t| inversion | mirror_z | mirror_y | rotation_x_180 |\u001b[0m\n\u001b[1;37m     ^\u001b[0m\n\u001b[1;31mSyntaxError\u001b[0m\u001b[1;31m:\u001b[0m invalid syntax\n"
     ]
    }
   ],
   "source": [
    "1D object| identity\t| inversion | mirror_z | mirror_y | rotation_x_180 |\n",
    "---------|----------|-----------|----------|----------|----------------|\n",
    "scalar   |    1           1           1          1            1\n",
    "---------|----------|-----------|----------|----------|----------------|\n",
    "pseudo   |    1          -1           1         N/A           1\n",
    "---------|----------|-----------|----------|----------|----------------|\n",
    "polar    |    1          -1          N/A        -1           -1\n",
    "---------|----------|-----------|----------|----------|----------------|\n",
    "axial    |    1           1          N/A        -1           -1\n",
    "---------|----------|-----------|----------|----------|----------------|"
   ]
  },
  {
   "cell_type": "code",
   "execution_count": null,
   "id": "a0e33dfc-1ae8-4afa-9609-97a3d7860b4e",
   "metadata": {},
   "outputs": [],
   "source": [
    "#In a 1D space MirrorZ and MirrorY are pretty redundant with Inversion as they undergo the same unit transformation. However with higher dimensions\n",
    "#these functions look less and less alike making them less redundant"
   ]
  },
  {
   "cell_type": "code",
   "execution_count": null,
   "id": "e3e8bcd0-21ff-4fbb-8ba1-50fa04852a8e",
   "metadata": {},
   "outputs": [],
   "source": [
    "# The only terms that are even under all symmetries for Q_i * Q_j are  Q_1 * Q_1,  Q_2 * Q_2,  Q_3 * Q_3\n",
    "# The only terms that are even under all symmetries for Q_i * Q_j * Q_k are Q_1 * Q_1 * Q_1, Q_1 * Q_2 * Q_2, Q_3 * Q_3 * Q_2"
   ]
  }
 ],
 "metadata": {
  "kernelspec": {
   "display_name": "Python 3 (ipykernel)",
   "language": "python",
   "name": "python3"
  },
  "language_info": {
   "codemirror_mode": {
    "name": "ipython",
    "version": 3
   },
   "file_extension": ".py",
   "mimetype": "text/x-python",
   "name": "python",
   "nbconvert_exporter": "python",
   "pygments_lexer": "ipython3",
   "version": "3.9.19"
  }
 },
 "nbformat": 4,
 "nbformat_minor": 5
}
